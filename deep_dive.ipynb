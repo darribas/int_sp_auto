{
 "cells": [
  {
   "cell_type": "markdown",
   "metadata": {},
   "source": [
    "# A more detailed description\n",
    "\n",
    "This notebook presents a bit more detail about the interactive built on the main notebook."
   ]
  },
  {
   "cell_type": "markdown",
   "metadata": {},
   "source": [
    "## \"Math geek\" explanation"
   ]
  },
  {
   "cell_type": "markdown",
   "metadata": {},
   "source": [
    "The data generating process (DGP) considered to create the sythetic dataset here is the following:\n",
    "\n",
    "$u = \\lambda Wu + \\epsilon$\n",
    "\n",
    "Where $u$ is a vector spatially autocorrelated, $W$ is a spatial weights matrix as you could created with `PySAL`, and $\\epsilon$ is an i.i.d. random vector.\n",
    "\n",
    "We can rearrange terms to express $u$ as a function of $\\epsilon$, which we can easily generate as a random noise:\n",
    "\n",
    "1. $u - \\lambda Wu = \\epsilon$\n",
    "\n",
    "1. $u (I - \\lambda W) = \\epsilon$\n",
    "\n",
    "1. $u = (I - \\lambda W)^{-1} \\epsilon$\n",
    "\n",
    "And this will give us, from a vector or randomly generated values, a particular $W$, and a pre-set $\\lambda$, a vector of spatially autocorrelated values that we can plot both on a gridded map, and on a simple Moran Scatterplot. In this example, since we are using a perfect grid, we use a classic rook contiguity spatial weights matrix."
   ]
  },
  {
   "cell_type": "markdown",
   "metadata": {},
   "source": [
    "## \"Code geek\" explanation"
   ]
  },
  {
   "cell_type": "markdown",
   "metadata": {},
   "source": [
    "To implement this DGP, we can write a method we will call `draw_map` that creates a random vector, transforms it into a spatially correlated variable with streength of $\\lambda$, and allocates it into a lattice geography, where every pixel is assumed to be an area with a value. Right next to it, the code also displays the Moran's scatter plot. Both map and plot depend on the $\\lambda$ parameter that controls the degree of spatial autocorrelation.\n",
    "\n",
    "Here's the function:"
   ]
  },
  {
   "cell_type": "code",
   "execution_count": 5,
   "metadata": {
    "collapsed": false,
    "jupyter": {
     "outputs_hidden": false
    }
   },
   "outputs": [],
   "source": [
    "def draw_map(lamb):\n",
    "    '''\n",
    "    Draw a map with a synthetic variable generated from \n",
    "    a spatially autoregressive GDP of strength `lamb`\n",
    "    \n",
    "    ...\n",
    "    \n",
    "    Arguments\n",
    "    ---------\n",
    "    lamb     : float\n",
    "               Strength of the SAR process that generates \n",
    "               the sythetic data to map\n",
    "    \n",
    "    Returns\n",
    "    -------\n",
    "    None\n",
    "    '''\n",
    "    s = 20\n",
    "    n = s**2\n",
    "    w = lat2W(s, s, rook=False)\n",
    "    w.transform = 'R'\n",
    "    e = np.random.random((n, 1))\n",
    "    u = inv(np.eye(n) - lamb * w.full()[0])\n",
    "    u = np.dot(u, e)\n",
    "    ul = lag_spatial(w, u)\n",
    "    u = (u - u.mean()) / np.std(u)\n",
    "    ul = (ul - ul.mean()) / np.std(ul)\n",
    "    gu = u.reshape((s, s))\n",
    "    # Figure\n",
    "    f = plt.figure(figsize=(9, 4))\n",
    "    ax1 = f.add_subplot(121)\n",
    "    ax1.matshow(gu, cmap=plt.cm.YlGn)\n",
    "    ax1.set_frame_on(False)\n",
    "    ax1.axes.get_xaxis().set_visible(False)\n",
    "    ax1.axes.get_yaxis().set_visible(False)\n",
    "    #---\n",
    "    ax2 = f.add_subplot(122)\n",
    "    ols = spreg.OLS(ul, u)\n",
    "    tag = \"b = %.3f\"%ols.betas[1][0]\n",
    "    sc = sns.regplot(u.ravel(), ul.ravel(), ax=ax2)\n",
    "    sc = sns.regplot(u.ravel(), ul.ravel(), ax=ax2, \\\n",
    "                     scatter=False, label=tag)\n",
    "    ax2.axvline(0, c='0.5', linewidth=0.5)\n",
    "    ax2.axhline(0, c='0.5', linewidth=0.5)\n",
    "    ax2.legend()\n",
    "    plt.xlabel('u')\n",
    "    plt.ylabel('Wu')\n",
    "    plt.suptitle(\"$\\lambda$ = %.2f\"%lamb)\n",
    "    plt.show()\n",
    "    return None"
   ]
  },
  {
   "cell_type": "markdown",
   "metadata": {},
   "source": [
    "And here is a simple, static run of the function for a value of $\\lambda = 0.95$:"
   ]
  },
  {
   "cell_type": "code",
   "execution_count": 6,
   "metadata": {
    "collapsed": false,
    "jupyter": {
     "outputs_hidden": false
    },
    "scrolled": true
   },
   "outputs": [
    {
     "data": {
      "image/png": "[encoded data removed]",
      "text/plain": [
       "<Figure size 648x288 with 2 Axes>"
      ]
     },
     "metadata": {
      "needs_background": "light"
     },
     "output_type": "display_data"
    }
   ],
   "source": [
    "draw_map(0.95)"
   ]
  },
  {
   "cell_type": "markdown",
   "metadata": {},
   "source": [
    "## License\n",
    "\n",
    "**NOTE**: this notebook is a modified version of [this other one](http://nbviewer.ipython.org/gist/darribas/9943372) and it's stored as a Github repository on the following address:\n",
    "\n",
    "> [https://github.com/darribas/int_sp_auto](https://github.com/darribas/int_sp_auto)\n",
    "\n",
    "A static HTML version can be found [here](http://nbviewer.ipython.org/github/darribas/int_sp_auto/blob/master/index.ipynb).\n",
    "\n",
    "<a rel=\"license\" href=\"http://creativecommons.org/licenses/by-nc-sa/4.0/\"><img\n",
    "alt=\"Creative Commons License\" style=\"border-width:0\"\n",
    "src=\"https://i.creativecommons.org/l/by-nc-sa/4.0/88x31.png\" /></a><br /><span\n",
    "xmlns:dct=\"http://purl.org/dc/terms/\" property=\"dct:title\">Binder notebook for interactive spatial autocorrelation</span> by <a xmlns:cc=\"http://creativecommons.org/ns#\"\n",
    "href=\"http://darribas.org\" property=\"cc:attributionName\"\n",
    "rel=\"cc:attributionURL\">Dani Arribas-Bel</a> is licensed under a <a rel=\"license\"\n",
    "href=\"http://creativecommons.org/licenses/by-nc-sa/4.0/\">Creative Commons\n",
    "Attribution-NonCommercial-ShareAlike 4.0 International License</a>"
   ]
  }
 ],
 "metadata": {
  "kernelspec": {
   "display_name": "Python 3",
   "language": "python",
   "name": "python3"
  },
  "language_info": {
   "codemirror_mode": {
    "name": "ipython",
    "version": 3
   },
   "file_extension": ".py",
   "mimetype": "text/x-python",
   "name": "python",
   "nbconvert_exporter": "python",
   "pygments_lexer": "ipython3",
   "version": "3.7.8"
  }
 },
 "nbformat": 4,
 "nbformat_minor": 4
}
